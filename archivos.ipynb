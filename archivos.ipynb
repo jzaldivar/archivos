{
 "cells": [
  {
   "cell_type": "markdown",
   "metadata": {},
   "source": [
    "# Archivos\n",
    "\n",
    "Las variables proveen únicamente almacenamiento *temporal* de los valores, para almacenar dichos valores de manera persistente es necesario utilizar archivos.\n",
    "\n",
    "Los archivos:\n",
    "\n",
    "* Proveen almacenamiento persistente\n",
    "* Permiten el intercambio de información entre diferentes programas\n",
    "* Pueden albergar los reportes generados por el programa\n",
    "\n",
    "## Abrir un archivo\n",
    "\n",
    "Para abrir un archivo, se utiliza la función `open`:\n",
    "\n",
    "```python\n",
    "open(nombre_archivo, modo=\"r\")\n",
    "```\n",
    "\n",
    "| `modo` | Descripción |\n",
    "|:-------:|:------------|\n",
    "| `\"r\"`   | Abre el archivo en modo lectura (*read*).<br>Esta es la opción predeterminada.|\n",
    "| `\"w\"`   | Abre el archivo en modo escritura (*write*).<br>Si el archivo ya existe, su contenido se sobreescribe.|\n",
    "| `\"a\"`   | Abre el archivo en modo de adición (*append*).<br>Si el archivo ya existe, lo que se escribe, se añade al final del contenido previo.|\n",
    "| `\"r+\"`  | Abre el archivo para leer y escribir.|\n",
    "\n",
    "De manera predeterminada, los archivos se abren en **modo texto**, para abrirlos en modo binario, hay que agregar `\"b\"` al `modo` (`\"rb\"`, `\"wb\"`, etc.).\n",
    "\n",
    "## Lectura de archivos\n",
    "\n",
    "Para propósitos del ejercicio, vamos a crear un archivo de texto para, posteriormente, leerlo.\n",
    "\n",
    "En la interfaz del *notebook*, podemos regresarnos a la página principal y seleccionar `Add file` y, después, `Create new file`.\n",
    "\n",
    "![Create new file](assets\\create-new-file.png \"Crear un archivo nuevo\")\n",
    "\n",
    "Le damos un nombre, en este caso: `beatles.txt`, y escribimos el contenido del archivo:\n",
    "```\n",
    "John Lennon\n",
    "Paul McCarthy\n",
    "George Harrison\n",
    "Ringo Star\n",
    "```\n",
    "![Create new text file](assets\\beatles.png \"Crear un archivo de texto\")\n",
    "\n",
    "Al final, hay que desplazarse hasta abajo de la página y dar clic en el botón `Commit new file`.\n",
    "\n",
    "![Commit new file](assets\\commit.png \"Guardar el archivo\")\n",
    "\n",
    "Si trabajas en tu computadora, puedes usar tu editor favorito de archivos ***de texto*** (por ejemplo, el bloc de notas) para crear el archivo. No utilices ningún editor de archivos binarios (por ejemplo, Word) porque los programas no funcionarían.\n",
    "\n",
    "A continuación, podemos leer el archivo de texto recién creado ejecutando la siguiente celda."
   ]
  },
  {
   "cell_type": "code",
   "execution_count": null,
   "metadata": {},
   "outputs": [],
   "source": [
    "f = open(\"beatles.txt\", \"r\")\n",
    "for line in f:\n",
    "    print(line)\n",
    "f.close()   # Siempre hay que cerrar el archivo al terminar de trabajar con él."
   ]
  },
  {
   "cell_type": "markdown",
   "metadata": {},
   "source": [
    "Puedes observar que *los archivos son iterables* y que *cada una de las líneas* del archivo *es un elemento* del iterable.\n",
    "\n",
    "También puedes observar que las líneas se imprimieron a doble espacio. ¿Por qué? \n",
    "\n",
    "Lo que sucede es que cada línea del archivo de texto termina con un carácter nueva línea (`\"\\n\"`) que, al imprimirse, cambia de línea. Queda a doble espacio porque el `print`, de manera predeterminada, también termina las cadenas impresas con un carácter nueva línea.\n",
    "\n",
    "El siguiente código nos permite visualizarlo utilizando la función `repr` (*representación*)."
   ]
  },
  {
   "cell_type": "code",
   "execution_count": null,
   "metadata": {},
   "outputs": [],
   "source": [
    "f = open(\"beatles.txt\", \"r\")\n",
    "for line in f:\n",
    "    for caracter in line:\n",
    "        print(repr(caracter), end=\" \")\n",
    "    print()\n",
    "f.close()"
   ]
  },
  {
   "cell_type": "markdown",
   "metadata": {},
   "source": [
    "Puedes observar, al final de cada línea, el carácter `\"\\n\"`. \n",
    "\n",
    "Dependiendo del sistema operativo, algunos archivos de texto pueden terminar cada línea con la combinación de caracteres `\"\\r\\n\"`. También es posible que la última línea no tenga un carácter de fin de línea, dependiendo de cómo se haya creado.\n",
    "\n",
    "Podemos usar el método `.strip` de la clase `str` para eliminar ese carácter de salto de línea al final. `.strip` también elimina la combinación `\"\\r\\n\"`. En realidad, `,strip` elimina el [espacio en blanco](https://docs.python.org/3/library/string.html#string.whitespace) al principio y al final de la cadena, como se indica en la [documentación de Python](https://docs.python.org/3/library/stdtypes.html#str.strip). \n"
   ]
  },
  {
   "cell_type": "code",
   "execution_count": null,
   "metadata": {},
   "outputs": [],
   "source": [
    "f = open(\"beatles.txt\", \"r\")\n",
    "for line in f:\n",
    "    print(line.strip())\n",
    "f.close()"
   ]
  },
  {
   "cell_type": "markdown",
   "metadata": {},
   "source": [
    "\n",
    "## Mejor práctica\n",
    "\n",
    "Aunque el código anterior funciona, se considera una mejor práctica utilizar la función `open` dentro de un bloque `with`. De esta manera, el archivo se cierra automáticamente al terminar el bloque `with`.\n",
    "\n",
    "De la siguiente manera:"
   ]
  },
  {
   "cell_type": "code",
   "execution_count": null,
   "metadata": {},
   "outputs": [],
   "source": [
    "with  open(\"beatles.txt\", \"r\") as f:\n",
    "    for line in f:\n",
    "        print(line.strip())\n",
    "# No se necesita f.close()"
   ]
  },
  {
   "cell_type": "markdown",
   "metadata": {},
   "source": [
    "## Abrir varios archivos en un bloque `with`\n",
    "\n",
    "Se pueden enumerar los archivos:\n",
    "\n",
    "```python\n",
    "with open(...) as f1, open(...) as f2, ...:\n",
    "```\n",
    "\n",
    "Por ejemplo:\n",
    "```python\n",
    "with (\n",
    "    open(\"entrada.txt\", \"r\") as f_in,\n",
    "    open(\"salida.txt, \"w\") as f_out\n",
    "    ):\n",
    "    for line in f_in:\n",
    "        f_out.write(line)\n",
    "```\n",
    "\n",
    "O se pueden anidar los bloques `with`:\n",
    "\n",
    "```python\n",
    "with open(...) as f1:\n",
    "    with open(...) as f2:\n",
    "        ...\n",
    "```\n",
    "Por ejemplo:\n",
    "```python\n",
    "with open(\"entrada.txt\", \"r\") as f_in:\n",
    "    with open(\"salida.txt, \"w\") as f_out:\n",
    "        for line in f_in:\n",
    "            f_out.write(line)\n",
    "```\n"
   ]
  },
  {
   "cell_type": "markdown",
   "metadata": {},
   "source": [
    "## Métodos del objeto archivo (`TextFile`)\n",
    "\n",
    "| Método | Descripción |\n",
    "| -------------- | ----------- |\n",
    "| `.read(size)`  | Lee `size` bytes.<br>Si se omite `size`, lee todo el archivo. |\n",
    "| `.readline()`  | Lee una línea del archivo, incluyendo el carácter nueva línea (`\"\\n\"`) al final. |\n",
    "| `.readlines()` | Lee a una lista todas las líneas deñ archivo, incluyendo los caracteres nueva línea. |\n",
    "| `.write(string)`| Escribe el contenido de la variable `string` en el archivo.<br> Hay que añadir el carácter nueva línea (`\"\\n\"`) si se requiere.<br>La variable `string` debe ser de tipo texto.<br>Regresa la cantidad de bytes escritos.|\n",
    "| `.seek(offset,`<br>&nbsp;&nbsp;&nbsp;&nbsp;`from_what)`| Mueve el puntero del archivo `offset` bytes.<br>En modo texto sólo se usa `from_what=0`, para moverse relativo al inicio del archivo, o la forma `f.seek(0, 2)`, para moverse hasta el final. |\n",
    "| `.close()` | Cierra el archivo. |\n",
    "\n",
    "Recordar que los archivos se pueden iterar por línea sin necesidad de utilizar los métodos `read` y relacionados.\n",
    "\n",
    "## Verificar la existencia de un archivo\n",
    "\n",
    "Existen dos bibliotecas (*libraries*) populares para el manejo de archivos: `os.path` y `pathlib`.\n",
    "\n",
    "Para verificar la existencia de un archivo con el módulo `os.path` [(documentación)](https://docs.python.org/3/library/os.path.html), podemos hacer algo como:"
   ]
  },
  {
   "cell_type": "code",
   "execution_count": null,
   "metadata": {},
   "outputs": [],
   "source": [
    "import os.path\n",
    "\n",
    "file = \"beatles.txt\"\n",
    "if os.path.isfile(file):\n",
    "    print(f\"El archivo '{file}' existe.\")\n",
    "else:\n",
    "    print(f\"El archivo '{file}' no existe.\")"
   ]
  },
  {
   "cell_type": "markdown",
   "metadata": {},
   "source": [
    "O podemos usar el módulo más moderno (y orientado a objetos) `pathlib` [(documentación)](https://docs.python.org/3/library/pathlib.html):"
   ]
  },
  {
   "cell_type": "code",
   "execution_count": null,
   "metadata": {},
   "outputs": [],
   "source": [
    "from pathlib import Path\n",
    "\n",
    "files = [\"beatles.txt\", \"data\", \"data/ejemplo.txt\"]\n",
    "for file in files:\n",
    "    file = Path(file)\n",
    "    if file.exists():\n",
    "        if file.is_dir():\n",
    "            print(f\"{file.name} es una carpeta.\")\n",
    "        elif file.is_file():\n",
    "            print(f\"{file.name} es un archivo.\")\n",
    "    else:\n",
    "        print(f\"{file.name} no existe.\")"
   ]
  },
  {
   "cell_type": "markdown",
   "metadata": {},
   "source": [
    "## Ejemplo: Verificar la frecuencia de palabras en un archivo\n",
    "\n",
    "Escribir una función que analice la frecuencia de las diferentes palabras contenidas en un archivo. La función recibirá como parámetros el nombre del archivo a analizar y el nombre del archivo de salida. En el archivo de salida, se escribira, en cada línea, una palabra, seguida de dos puntos y la cantidad de veces que la misma aparece en el archivo de entrada, en orden de mayor frecuencia de aparición. Adicionalmente, la función regresará como valor un diccionario con las palabras (clave) y sus frecuencias (valor), en el mismo orden.\n",
    "\n",
    "Probar la función con el archivo `Asimov, Isasc - Cómo ocurrió.txt` de la carpeta `data`. Imprimir las diez palabras más frecuentes y las veces que aparecen en el archivo."
   ]
  },
  {
   "cell_type": "code",
   "execution_count": null,
   "metadata": {},
   "outputs": [],
   "source": [
    "# -*- coding: utf-8 -*-\n",
    "\n",
    "def frecuencia_palabras_en_archivo(archivo_entrada, archivo_salida):\n",
    "    \"\"\"Analiza la frecuencia con que ocurren diferentes palabras en un archivo\n",
    "    de texto.\"\"\"\n",
    "    frecuencias = {}\n",
    "    with open(archivo_entrada, \"r\") as f:\n",
    "        # Leer cada línea\n",
    "        for linea in f:\n",
    "            # Dejar únicamente letras y espacios\n",
    "            linea = linea.lower()\n",
    "            letras = \"\"\n",
    "            for caracter in linea:\n",
    "                if caracter.isalpha() or caracter == \" \":\n",
    "                    letras += caracter\n",
    "            palabras = letras.split()\n",
    "            for palabra in palabras:\n",
    "                if palabra in frecuencias:\n",
    "                    frecuencias[palabra] += 1\n",
    "                else:\n",
    "                    frecuencias[palabra] = 1\n",
    "\n",
    "    # Ordenar el diccionario por frecuencia\n",
    "    # La colección .items() de un diccionario son las tuplas (clave, valor) que\n",
    "    # lo conforman\n",
    "    items = frecuencias.items()\n",
    "    # Ordenarlo: sorted\n",
    "    # en orden descendente: reverse=True\n",
    "    # por frecuencia: la frecuencia es el segundo elemento de la tupla: item[1]\n",
    "    # el parámetro key indica en base a qué se hace el ordenamiento,\n",
    "    # lambda crea una función \"anónima\", es decir, sin nombre.\n",
    "    # lambda item: item[1]\n",
    "    # sería el equivalente a definir una función como la siguiente\n",
    "    # (excepto por el nombre):\n",
    "    # def nombre(item):\n",
    "    #     return item[1]\n",
    "    items = sorted(items, key=lambda item: item[1], reverse=True)\n",
    "    # Convertir la colección de tuplas ordenadas en diccionario\n",
    "    frecuencias = dict(items)\n",
    "\n",
    "    # Escribir el archivo de salida\n",
    "    with open(archivo_salida, \"w\") as f:\n",
    "        for palabra in frecuencias:\n",
    "            linea = f\"{palabra}: {frecuencias[palabra]}\\n\"\n",
    "            f.write(linea)\n",
    "    # Regresar el diccionario\n",
    "    return frecuencias\n",
    "\n",
    "def main():\n",
    "    \"\"\"Probar la función\"\"\"\n",
    "    archivo = \"data/Asimov - How It Happened.txt\"\n",
    "    salida = \"data/Asimov-análisis.txt\"\n",
    "    prueba = frecuencia_palabras_en_archivo(archivo, salida)\n",
    "    # Mostrar las diez palabras más frecuentes\n",
    "    i = 0\n",
    "    for palabra in prueba:\n",
    "        print(f\"{palabra}: {prueba[palabra]}\")\n",
    "        i += 1\n",
    "        if i >= 10:\n",
    "            break\n",
    "\n",
    "main()"
   ]
  },
  {
   "source": [
    "## Ejemplo: Encriptar un archivo\n",
    "\n",
    "El siguiente ejemplo utiliza una técnica muy sencilla de encriptamiento por desplazamiento. A cada carácter se le aplica un desplazamiento `x` y se reemplaza por el carácter que corresponda a dicho desplazamiento. Por ejemplo, si el desplazamiento es `2`, cada letra \"A\" se reemplazará por \"C\"; las \"B\" por \"D\", etc."
   ],
   "cell_type": "markdown",
   "metadata": {}
  },
  {
   "cell_type": "code",
   "execution_count": null,
   "metadata": {},
   "outputs": [],
   "source": [
    "def encriptar(cadena, desplazamiento):\n",
    "    \"\"\"\n",
    "    Encriptar una cadena aplicando el desplazamiento indicado. \n",
    "    Solo se encriptan letras y números, los signos de puntuación se dejan sin afectar.\n",
    "    \"\"\"\n",
    "    salida = \"\"\n",
    "    for letra in cadena:\n",
    "        if letra.isalnum():\n",
    "            letra = chr(ord(letra) +  desplazamiento)\n",
    "        salida += letra\n",
    "    return salida"
   ]
  },
  {
   "cell_type": "code",
   "execution_count": null,
   "metadata": {},
   "outputs": [],
   "source": [
    "from pathlib import Path\n",
    "\n",
    "def encriptar_archivo(entrada, desplazamiento):\n",
    "    \"\"\"\n",
    "    Encripta el archivo de entrada aplicando el desplazamiento indicado.\n",
    "    El archivo de salida tiene el mismo nombre que el de entrada más\n",
    "    la cadena: -CRIPTO.\n",
    "    \"\"\"\n",
    "    archivo = Path(entrada)\n",
    "    salida = str(archivo.with_stem(archivo.stem + \"-CRIPTO\"))\n",
    "    with open(archivo, \"r\") as f_in, open(salida, \"w\") as f_out:\n",
    "        for linea in f_in:\n",
    "            f_out.write(encriptar(linea, desplazamiento))"
   ]
  },
  {
   "source": [
    "Con las dos funciones definidas más arriba, podemos encriptar, por ejemplo, el archivo trabajado en el ejemplo anterior."
   ],
   "cell_type": "markdown",
   "metadata": {}
  },
  {
   "cell_type": "code",
   "execution_count": null,
   "metadata": {},
   "outputs": [],
   "source": [
    "encriptar_archivo(\"data/Asimov - How It Happened.txt\", 2)"
   ]
  },
  {
   "source": [
    "## Ejercicio\n",
    "\n",
    "El archivo `data\\calificaciones.txt` contiene los nombres y calificaciones de los alumnos del curso de Algoritmos y Programación con el siguiente formato:\n",
    "\n",
    "`Peter Parker 100 95 98 92`\n",
    "\n",
    "Las calificaciones aparecen separadas del apellido y entre sí por un espacio. El número de calificaciones por alumno es variable.\n",
    "\n",
    "Procesarlo y generar un archivo `data\\promedios.txt` con el formato:\n",
    "\n",
    "`PARKER, Peter: 96.3`\n",
    "\n",
    "El formato consiste en el apellido del alumno en mayúsculas, separado por una coma de su nombre, dos puntos y, enseguida, el promedio de las calificaciones a un decimal.\n",
    "\n",
    "Todos los alumnos tienen un solo nombre y un solo apellido."
   ],
   "cell_type": "markdown",
   "metadata": {}
  },
  {
   "cell_type": "code",
   "execution_count": null,
   "metadata": {},
   "outputs": [],
   "source": []
  }
 ],
 "metadata": {
  "kernelspec": {
   "name": "python391jvsc74a57bd01e5a504a27c91785cc20fa5894256130d97c1764e1afe7fb121f7c2e7578e171",
   "display_name": "Python 3.9.1 64-bit"
  },
  "language_info": {
   "codemirror_mode": {
    "name": "ipython",
    "version": 3
   },
   "file_extension": ".py",
   "mimetype": "text/x-python",
   "name": "python",
   "nbconvert_exporter": "python",
   "pygments_lexer": "ipython3",
   "version": "3.9.1"
  },
  "metadata": {
   "interpreter": {
    "hash": "1e5a504a27c91785cc20fa5894256130d97c1764e1afe7fb121f7c2e7578e171"
   }
  }
 },
 "nbformat": 4,
 "nbformat_minor": 2
}