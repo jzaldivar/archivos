{
 "metadata": {
  "language_info": {
   "codemirror_mode": {
    "name": "ipython",
    "version": 3
   },
   "file_extension": ".py",
   "mimetype": "text/x-python",
   "name": "python",
   "nbconvert_exporter": "python",
   "pygments_lexer": "ipython3",
   "version": 3
  },
  "orig_nbformat": 2
 },
 "nbformat": 4,
 "nbformat_minor": 2,
 "cells": [
  {
   "source": [
    "# Archivos\n",
    "\n",
    "Las variables proveen únicamente almacenamiento *temporal* de los valores, para almacenar dichos valores de manera persistente es necesario utilizar archivos.\n",
    "\n",
    "Los archivos:\n",
    "\n",
    "* Proveen almacenamiento persistente\n",
    "* Permiten el intercambio de información entre diferentes programas\n",
    "* Pueden albergar los reportes generados por el programa\n",
    "\n",
    "## Abrir un archivo\n",
    "\n",
    "Para abrir un archivo, se utiliza la función `open`:\n",
    "\n",
    "```python\n",
    "open(nombre_archivo, modo=\"r\")\n",
    "```\n",
    "\n",
    "| `modo` | Descripción |\n",
    "|:-------:|:------------|\n",
    "| `\"r\"`   | Abre el archivo en modo lectura (*read*).<br>Esta es la opción predeterminada.|\n",
    "| `\"w\"`   | Abre el archivo en modo escritura (*write*).<br>Si el archivo ya existe, su contenido se sobreescribe.|\n",
    "| `\"a\"`   | Abre el archivo en modo de adición (*append*).<br>Si el archivo ya existe, lo que se escribe, se añade al final del contenido previo.|\n",
    "| `\"r+\"`  | Abre el archivo para leer y escribir.|\n",
    "\n",
    "De manera predeterminada, los archivos se abren en **modo texto**, para abrirlos en modo binario, hay que agregar `\"b\"` al `modo` (`\"rb\"`, `\"wb\"`, etc.).\n"
   ],
   "cell_type": "markdown",
   "metadata": {}
  }
 ]
}