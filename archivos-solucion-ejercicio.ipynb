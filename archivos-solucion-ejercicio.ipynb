{
 "cells": [
  {
   "cell_type": "markdown",
   "metadata": {},
   "source": [
    "# Archivos"
   ]
  },
  {
   "cell_type": "markdown",
   "metadata": {},
   "source": [
    "## Ejercicio\n",
    "\n",
    "El archivo `data\\calificaciones.txt` contiene los nombres y calificaciones de los alumnos del curso de Algoritmos y Programación con el siguiente formato:\n",
    "\n",
    "`Peter Parker 100 95 98 92`\n",
    "\n",
    "Las calificaciones aparecen separadas del apellido y entre sí por un espacio. El número de calificaciones por alumno es variable.\n",
    "\n",
    "Procesarlo y generar un archivo `data\\promedios.txt` con el formato:\n",
    "\n",
    "`PARKER, Peter: 96.3`\n",
    "\n",
    "El formato consiste en el apellido del alumno en mayúsculas, separado por una coma de su nombre, dos puntos y, enseguida, el promedio de las calificaciones a un decimal.\n",
    "\n",
    "Todos los alumnos tienen un solo nombre y un solo apellido."
   ]
  },
  {
   "cell_type": "code",
   "execution_count": 1,
   "metadata": {},
   "outputs": [],
   "source": [
    "# Nombre del archivo de entrada\n",
    "entrada = \"data/calificaciones.txt\"\n",
    "# Nombre del archivo de salida\n",
    "salida = \"data/promedios.txt\"\n",
    "# Abrir el archivo de entrada\n",
    "with open(entrada, \"r\", encoding=\"utf8\") as f_in:\n",
    "    # Abrir el archivo de salida\n",
    "    with open(salida, \"w\", encoding=\"utf8\") as f_out:\n",
    "        # Leer cada línea del archivo de entrada\n",
    "        for linea in f_in:\n",
    "            # Dividir la línea en una lista\n",
    "            linea = linea.strip().split()\n",
    "            # El primer elemento es el nombre\n",
    "            nombre = linea[0]\n",
    "            # El segundo, el apellido\n",
    "            apellido = linea[1]\n",
    "            # El resto de los elementos son las calificaciones\n",
    "            calificaciones = [float(x) for x in linea[2:]]\n",
    "            # Calcular el promedio\n",
    "            promedio = sum(calificaciones) / len(calificaciones)\n",
    "            # Escribir la información en el archivo de salida con el formato solicitado\n",
    "            # - Apellido en mayúsculas\n",
    "            # - Coma\n",
    "            # - Nombre\n",
    "            # - Dos puntos\n",
    "            # - Promedio con un decimal\n",
    "            f_out.write(f\"{apellido.upper()}, {nombre}: {promedio:.1f}\\n\")\n"
   ]
  }
 ],
 "metadata": {
  "interpreter": {
   "hash": "1e5a504a27c91785cc20fa5894256130d97c1764e1afe7fb121f7c2e7578e171"
  },
  "kernelspec": {
   "display_name": "Python 3.9.1 64-bit",
   "language": "python",
   "name": "python3"
  },
  "language_info": {
   "codemirror_mode": {
    "name": "ipython",
    "version": 3
   },
   "file_extension": ".py",
   "mimetype": "text/x-python",
   "name": "python",
   "nbconvert_exporter": "python",
   "pygments_lexer": "ipython3",
   "version": "3.9.1"
  },
  "metadata": {
   "interpreter": {
    "hash": "1e5a504a27c91785cc20fa5894256130d97c1764e1afe7fb121f7c2e7578e171"
   }
  }
 },
 "nbformat": 4,
 "nbformat_minor": 2
}
